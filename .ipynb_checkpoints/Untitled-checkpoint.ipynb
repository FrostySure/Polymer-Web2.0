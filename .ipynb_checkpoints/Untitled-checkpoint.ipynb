{
 "cells": [
  {
   "cell_type": "code",
   "execution_count": 1,
   "id": "22c6f6ed-397f-4f52-9255-56bda9758d10",
   "metadata": {},
   "outputs": [
    {
     "data": {
      "application/vnd.jupyter.widget-view+json": {
       "model_id": "dfc826ec4d6c4700be6c5f381c6fbdaa",
       "version_major": 2,
       "version_minor": 0
      },
      "text/plain": []
     },
     "metadata": {},
     "output_type": "display_data"
    },
    {
     "data": {
      "application/vnd.jupyter.widget-view+json": {
       "model_id": "a389813d100c4e1e8148c17ff00f33b1",
       "version_major": 2,
       "version_minor": 0
      },
      "text/plain": [
       "NGLWidget()"
      ]
     },
     "metadata": {},
     "output_type": "display_data"
    }
   ],
   "source": [
    "import nglview as nv\n",
    "nv.show_structure_file('10_un.pdb')"
   ]
  },
  {
   "cell_type": "code",
   "execution_count": 2,
   "id": "2ecef447-62e7-4d56-927e-0a399fbbf5cc",
   "metadata": {},
   "outputs": [
    {
     "data": {
      "application/vnd.jupyter.widget-view+json": {
       "model_id": "fe38a34c04884eaaab36c0b49e2d6387",
       "version_major": 2,
       "version_minor": 0
      },
      "text/plain": [
       "NGLWidget()"
      ]
     },
     "metadata": {},
     "output_type": "display_data"
    }
   ],
   "source": [
    "import nglview as nv\n",
    "import os\n",
    "\n",
    "view = nv.demo()\n",
    "view"
   ]
  },
  {
   "cell_type": "code",
   "execution_count": 2,
   "id": "aa338ec5-b3dd-4efe-aa52-2c29754211a7",
   "metadata": {},
   "outputs": [
    {
     "data": {
      "application/vnd.jupyter.widget-view+json": {
       "model_id": "3a1dcfbb2bab46e788a589710d99dc94",
       "version_major": 2,
       "version_minor": 0
      },
      "text/plain": [
       "NGLWidget()"
      ]
     },
     "metadata": {},
     "output_type": "display_data"
    }
   ],
   "source": [
    "## 支持缩放查看浏览构象\n",
    "import nglview as nv\n",
    "\n",
    "viewer = nv.NGLWidget()\n",
    "view1 = nv.show_pdbid(\"3pk2\")  ##直接数据库拉取pdb文件\n",
    "\n",
    "view1 \n"
   ]
  },
  {
   "cell_type": "code",
   "execution_count": 5,
   "id": "57be84bf-a9e6-4e27-b4d8-69a51b543ef1",
   "metadata": {},
   "outputs": [
    {
     "data": {
      "application/vnd.jupyter.widget-view+json": {
       "model_id": "f8d6c7035df64d1da33b1431956b5236",
       "version_major": 2,
       "version_minor": 0
      },
      "text/plain": [
       "NGLWidget()"
      ]
     },
     "metadata": {},
     "output_type": "display_data"
    }
   ],
   "source": [
    "import nglview as nv\n",
    "from IPython.display import HTML \n",
    "view = nv.show_file(\"dpp4.pdb\")\n",
    "view"
   ]
  },
  {
   "cell_type": "code",
   "execution_count": 2,
   "id": "62a80c11-7e49-4a03-afde-c9e81fe54ce5",
   "metadata": {},
   "outputs": [
    {
     "data": {
      "application/vnd.jupyter.widget-view+json": {
       "model_id": "0b88ab74d4754e1ea40aa9f6e93d356e",
       "version_major": 2,
       "version_minor": 0
      },
      "text/plain": [
       "NGLWidget()"
      ]
     },
     "metadata": {},
     "output_type": "display_data"
    }
   ],
   "source": [
    "import nglview as nv\n",
    "nv.show_structure_file('dpp4.pdb')"
   ]
  },
  {
   "cell_type": "code",
   "execution_count": 3,
   "id": "2e5e1de5-72d0-46a9-a629-3d53d309847a",
   "metadata": {},
   "outputs": [
    {
     "data": {
      "application/vnd.jupyter.widget-view+json": {
       "model_id": "b5f565f94cb74441a136b5d022ceee1a",
       "version_major": 2,
       "version_minor": 0
      },
      "text/plain": [
       "NGLWidget()"
      ]
     },
     "metadata": {},
     "output_type": "display_data"
    }
   ],
   "source": [
    "import nglview as nv\n",
    "nv.show_structure_file('./3/tes_un.pdb')"
   ]
  },
  {
   "cell_type": "code",
   "execution_count": 20,
   "id": "ba3e6b97-8c14-47f6-97f3-60e97e22bec0",
   "metadata": {},
   "outputs": [
    {
     "data": {
      "application/vnd.jupyter.widget-view+json": {
       "model_id": "2ed50d8d0a97433c836480557854e83d",
       "version_major": 2,
       "version_minor": 0
      },
      "text/plain": [
       "NGLWidget()"
      ]
     },
     "metadata": {},
     "output_type": "display_data"
    }
   ],
   "source": [
    "import nglview as nv\n",
    "nv.show_structure_file('./semi-job1/system.pdb')"
   ]
  },
  {
   "cell_type": "code",
   "execution_count": 21,
   "id": "255dfccd-226a-41e6-ab2a-4a202967216c",
   "metadata": {},
   "outputs": [
    {
     "data": {
      "application/vnd.jupyter.widget-view+json": {
       "model_id": "96b034c8cf5e4e72bb90115baa7ef1a0",
       "version_major": 2,
       "version_minor": 0
      },
      "text/plain": [
       "NGLWidget()"
      ]
     },
     "metadata": {},
     "output_type": "display_data"
    }
   ],
   "source": [
    "import nglview as nv\n",
    "nv.show_structure_file('semi-job1/10_un.pdb')"
   ]
  },
  {
   "cell_type": "code",
   "execution_count": 23,
   "id": "77be91cc-7844-42a7-a31f-67e8db74839e",
   "metadata": {},
   "outputs": [
    {
     "ename": "AttributeError",
     "evalue": "module 'nglview' has no attribute 'DCDTrajectoryFile'",
     "output_type": "error",
     "traceback": [
      "\u001b[0;31m---------------------------------------------------------------------------\u001b[0m",
      "\u001b[0;31mAttributeError\u001b[0m                            Traceback (most recent call last)",
      "Cell \u001b[0;32mIn[23], line 11\u001b[0m\n\u001b[1;32m      8\u001b[0m view \u001b[38;5;241m=\u001b[39m nv\u001b[38;5;241m.\u001b[39mshow_structure_file(pdb_file)\n\u001b[1;32m     10\u001b[0m \u001b[38;5;66;03m# 将dcd文件添加到视图中\u001b[39;00m\n\u001b[0;32m---> 11\u001b[0m view\u001b[38;5;241m.\u001b[39madd_trajectory(\u001b[43mnv\u001b[49m\u001b[38;5;241;43m.\u001b[39;49m\u001b[43mDCDTrajectoryFile\u001b[49m(dcd_file))\n\u001b[1;32m     13\u001b[0m \u001b[38;5;66;03m# 在Jupyter Notebook中显示视图\u001b[39;00m\n\u001b[1;32m     14\u001b[0m view\n",
      "\u001b[0;31mAttributeError\u001b[0m: module 'nglview' has no attribute 'DCDTrajectoryFile'"
     ]
    }
   ],
   "source": [
    "import MDAnalysis as mda\n",
    "import nglview as nv\n",
    "\n",
    "# 指定pdb和dcd文件路径\n",
    "pdb_file = 'semi-job1/tes_un.pdb'\n",
    "dcd_file = 'semi-job1/tes_npt.dcd'\n",
    "\n",
    "# 创建 MDAnalysis Universe 对象\n",
    "universe = mda.Universe(pdb_file, dcd_file)\n",
    "\n",
    "# 获取原子坐标\n",
    "coordinates = universe.trajectory.timeseries()\n",
    "\n",
    "# 可视化轨迹\n",
    "view = nv.show_mdanalysis(universe)\n",
    "view.add_representation('cartoon', selection='protein')  # 添加蛋白质的 cartoon 表示\n",
    "view.center()\n",
    "view\n",
    "\n"
   ]
  },
  {
   "cell_type": "code",
   "execution_count": 25,
   "id": "30ff42c6-8dc7-43af-8bb4-161d7d374d84",
   "metadata": {},
   "outputs": [
    {
     "data": {
      "application/vnd.jupyter.widget-view+json": {
       "model_id": "211f0ac16cb540508187b62a8233feaa",
       "version_major": 2,
       "version_minor": 0
      },
      "text/plain": [
       "NGLWidget()"
      ]
     },
     "metadata": {},
     "output_type": "display_data"
    }
   ],
   "source": [
    "import nglview as nv\n",
    "import mdtraj as md\n",
    "\n",
    "# 指定pdb和dcd文件路径\n",
    "pdb_file = 'semi-job1/tes_un.pdb'\n",
    "dcd_file = 'semi-job1/tes_npt.dcd'\n",
    "\n",
    "# 读取pdb文件\n",
    "traj = md.load(pdb_file)\n",
    "\n",
    "# 读取dcd文件的轨迹\n",
    "traj = md.load(dcd_file, top=pdb_file)\n",
    "\n",
    "# 使用NGLView可视化\n",
    "view = nv.show_mdtraj(traj)\n",
    "view\n"
   ]
  },
  {
   "cell_type": "code",
   "execution_count": null,
   "id": "774288b2-2a8d-457a-b6cb-0f2599832df9",
   "metadata": {},
   "outputs": [],
   "source": []
  }
 ],
 "metadata": {
  "kernelspec": {
   "display_name": "Python 3 (ipykernel)",
   "language": "python",
   "name": "python3"
  },
  "language_info": {
   "codemirror_mode": {
    "name": "ipython",
    "version": 3
   },
   "file_extension": ".py",
   "mimetype": "text/x-python",
   "name": "python",
   "nbconvert_exporter": "python",
   "pygments_lexer": "ipython3",
   "version": "3.10.4"
  }
 },
 "nbformat": 4,
 "nbformat_minor": 5
}
