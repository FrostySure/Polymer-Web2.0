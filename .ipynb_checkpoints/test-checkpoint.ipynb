{
 "cells": [
  {
   "cell_type": "code",
   "execution_count": 1,
   "id": "bc6aa548",
   "metadata": {},
   "outputs": [
    {
     "ename": "ModuleNotFoundError",
     "evalue": "No module named 'nglview'",
     "output_type": "error",
     "traceback": [
      "\u001b[0;31m---------------------------------------------------------------------------\u001b[0m",
      "\u001b[0;31mModuleNotFoundError\u001b[0m                       Traceback (most recent call last)",
      "\u001b[0;32m/tmp/ipykernel_102772/1346067774.py\u001b[0m in \u001b[0;36m<module>\u001b[0;34m\u001b[0m\n\u001b[0;32m----> 1\u001b[0;31m \u001b[0;32mimport\u001b[0m \u001b[0mnglview\u001b[0m \u001b[0;32mas\u001b[0m \u001b[0mnv\u001b[0m\u001b[0;34m\u001b[0m\u001b[0;34m\u001b[0m\u001b[0m\n\u001b[0m\u001b[1;32m      2\u001b[0m \u001b[0mnv\u001b[0m\u001b[0;34m.\u001b[0m\u001b[0mshow_structure_file\u001b[0m\u001b[0;34m(\u001b[0m\u001b[0;34m'pca/tes_un.pdb'\u001b[0m\u001b[0;34m)\u001b[0m\u001b[0;34m\u001b[0m\u001b[0;34m\u001b[0m\u001b[0m\n",
      "\u001b[0;31mModuleNotFoundError\u001b[0m: No module named 'nglview'"
     ]
    }
   ],
   "source": [
    "import nglview as nv\n",
    "nv.show_structure_file('pca/tes_un.pdb')"
   ]
  },
  {
   "cell_type": "code",
   "execution_count": 5,
   "id": "7f71df32",
   "metadata": {},
   "outputs": [
    {
     "data": {
      "application/vnd.jupyter.widget-view+json": {
       "model_id": "c51df7953eac4534a6149e23699f0430",
       "version_major": 2,
       "version_minor": 0
      },
      "text/plain": [
       "NGLWidget()"
      ]
     },
     "metadata": {},
     "output_type": "display_data"
    }
   ],
   "source": [
    "import nglview as nv\n",
    "import os\n",
    "\n",
    "view = nv.demo()\n",
    "view"
   ]
  },
  {
   "cell_type": "code",
   "execution_count": 1,
   "id": "895a163d",
   "metadata": {},
   "outputs": [
    {
     "data": {
      "application/vnd.jupyter.widget-view+json": {
       "model_id": "3b1eb3a9b5c5465ab336334372b2fc18",
       "version_major": 2,
       "version_minor": 0
      },
      "text/plain": []
     },
     "metadata": {},
     "output_type": "display_data"
    },
    {
     "data": {
      "application/vnd.jupyter.widget-view+json": {
       "model_id": "5cd1045cd27843bfb062acc13167f4a0",
       "version_major": 2,
       "version_minor": 0
      },
      "text/plain": [
       "NGLWidget(max_frame=99)"
      ]
     },
     "metadata": {},
     "output_type": "display_data"
    }
   ],
   "source": [
    "import nglview as nv\n",
    "import mdtraj as md\n",
    "\n",
    "# 指定pdb和dcd文件路径\n",
    "pdb_file = 'pca/tes_un.pdb'\n",
    "dcd_file = 'pca/tes_r.dcd'\n",
    "\n",
    "# 读取pdb文件\n",
    "traj = md.load(pdb_file)\n",
    "\n",
    "# 读取dcd文件的轨迹\n",
    "traj = md.load(dcd_file, top=pdb_file)\n",
    "\n",
    "# 使用NGLView可视化\n",
    "view = nv.show_mdtraj(traj)\n",
    "view\n"
   ]
  },
  {
   "cell_type": "code",
   "execution_count": 4,
   "id": "bdcfbb34",
   "metadata": {},
   "outputs": [
    {
     "data": {
      "application/vnd.jupyter.widget-view+json": {
       "model_id": "ebfdc5a73fcc48d7ba2e59ffd90e229b",
       "version_major": 2,
       "version_minor": 0
      },
      "text/plain": [
       "NGLWidget(max_frame=1000)"
      ]
     },
     "metadata": {},
     "output_type": "display_data"
    }
   ],
   "source": [
    "import nglview as nv\n",
    "import mdtraj as md\n",
    "\n",
    "# 指定pdb和dcd文件路径\n",
    "pdb_file = 'pca/tes_un.pdb'\n",
    "dcd_file = 'pca/tes_npt.dcd'\n",
    "\n",
    "# 读取pdb文件\n",
    "traj = md.load(pdb_file)\n",
    "\n",
    "# 读取dcd文件的轨迹\n",
    "traj = md.load(dcd_file, top=pdb_file)\n",
    "\n",
    "# 使用NGLView可视化\n",
    "view = nv.show_mdtraj(traj)\n",
    "view"
   ]
  },
  {
   "cell_type": "code",
   "execution_count": 6,
   "id": "26e0a466",
   "metadata": {},
   "outputs": [
    {
     "data": {
      "application/vnd.jupyter.widget-view+json": {
       "model_id": "05202de448fc487aaedcbe62f5f14743",
       "version_major": 2,
       "version_minor": 0
      },
      "text/plain": [
       "NGLWidget(max_frame=1000)"
      ]
     },
     "metadata": {},
     "output_type": "display_data"
    }
   ],
   "source": [
    "import nglview as nv\n",
    "import mdtraj as md\n",
    "\n",
    "# 指定pdb和dcd文件路径\n",
    "pdb_file = 'ps/tes_un.pdb'\n",
    "dcd_file = 'ps/tes_npt.dcd'\n",
    "\n",
    "# 读取pdb文件\n",
    "traj = md.load(pdb_file)\n",
    "\n",
    "# 读取dcd文件的轨迹\n",
    "traj = md.load(dcd_file, top=pdb_file)\n",
    "\n",
    "# 使用NGLView可视化\n",
    "view = nv.show_mdtraj(traj)\n",
    "view"
   ]
  },
  {
   "cell_type": "code",
   "execution_count": 2,
   "id": "506e6937",
   "metadata": {},
   "outputs": [
    {
     "data": {
      "application/vnd.jupyter.widget-view+json": {
       "model_id": "fe2d67fd7e4046f3ae6c2c7063f5b10d",
       "version_major": 2,
       "version_minor": 0
      },
      "text/plain": [
       "NGLWidget(max_frame=1000)"
      ]
     },
     "metadata": {},
     "output_type": "display_data"
    }
   ],
   "source": [
    "import nglview as nv\n",
    "import mdtraj as md\n",
    "\n",
    "# 指定pdb和dcd文件路径\n",
    "pdb_file = 'pp/tes_un.pdb'\n",
    "dcd_file = 'pp/tes_npt.dcd'\n",
    "\n",
    "# 读取pdb文件\n",
    "traj = md.load(pdb_file)\n",
    "\n",
    "# 读取dcd文件的轨迹\n",
    "traj = md.load(dcd_file, top=pdb_file)\n",
    "\n",
    "# 使用NGLView可视化\n",
    "view = nv.show_mdtraj(traj)\n",
    "view"
   ]
  },
  {
   "cell_type": "code",
   "execution_count": 10,
   "id": "aeafcf1d",
   "metadata": {},
   "outputs": [
    {
     "data": {
      "application/vnd.jupyter.widget-view+json": {
       "model_id": "fa7c1673868f41d9a556ec4627cbc669",
       "version_major": 2,
       "version_minor": 0
      },
      "text/plain": [
       "NGLWidget(max_frame=1000)"
      ]
     },
     "metadata": {},
     "output_type": "display_data"
    }
   ],
   "source": [
    "import nglview as nv\n",
    "import mdtraj as md\n",
    "\n",
    "# 指定pdb和dcd文件路径\n",
    "pdb_file = 'pe/tes_un.pdb'\n",
    "dcd_file = 'pe/tes_npt.dcd'\n",
    "\n",
    "# 读取pdb文件\n",
    "traj = md.load(pdb_file)\n",
    "\n",
    "# 读取dcd文件的轨迹\n",
    "traj = md.load(dcd_file, top=pdb_file)\n",
    "\n",
    "# 使用NGLView可视化\n",
    "view = nv.show_mdtraj(traj)\n",
    "view"
   ]
  },
  {
   "cell_type": "code",
   "execution_count": 11,
   "id": "e32201dd",
   "metadata": {
    "scrolled": true
   },
   "outputs": [
    {
     "data": {
      "application/vnd.jupyter.widget-view+json": {
       "model_id": "cdd31dc11ca74394ad4f394054ea14fa",
       "version_major": 2,
       "version_minor": 0
      },
      "text/plain": [
       "NGLWidget(max_frame=1000)"
      ]
     },
     "metadata": {},
     "output_type": "display_data"
    }
   ],
   "source": [
    "import nglview as nv\n",
    "import mdtraj as md\n",
    "\n",
    "# 指定pdb和dcd文件路径\n",
    "pdb_file = 'pvc/tes_un.pdb'\n",
    "dcd_file = 'pvc/tes_npt.dcd'\n",
    "\n",
    "# 读取pdb文件\n",
    "traj = md.load(pdb_file)\n",
    "\n",
    "# 读取dcd文件的轨迹\n",
    "traj = md.load(dcd_file, top=pdb_file)\n",
    "\n",
    "# 使用NGLView可视化\n",
    "view = nv.show_mdtraj(traj)\n",
    "view"
   ]
  },
  {
   "cell_type": "code",
   "execution_count": 18,
   "id": "5da8b8bd",
   "metadata": {},
   "outputs": [
    {
     "data": {
      "application/vnd.jupyter.widget-view+json": {
       "model_id": "6c9253e3cd9145b88f4c80e4cee1d4cd",
       "version_major": 2,
       "version_minor": 0
      },
      "text/plain": [
       "NGLWidget(max_frame=1000)"
      ]
     },
     "metadata": {},
     "output_type": "display_data"
    }
   ],
   "source": [
    "import nglview as nv\n",
    "import mdtraj as md\n",
    "\n",
    "# 指定pdb和dcd文件路径\n",
    "pdb_file = 'pa6/tes_un.pdb'\n",
    "dcd_file = 'pa6/tes_npt.dcd'\n",
    "\n",
    "# 读取pdb文件\n",
    "traj = md.load(pdb_file)\n",
    "\n",
    "# 读取dcd文件的轨迹\n",
    "traj = md.load(dcd_file, top=pdb_file)\n",
    "\n",
    "# 使用NGLView可视化\n",
    "view = nv.show_mdtraj(traj)\n",
    "view"
   ]
  },
  {
   "cell_type": "code",
   "execution_count": 9,
   "id": "de30e81f",
   "metadata": {},
   "outputs": [
    {
     "data": {
      "application/vnd.jupyter.widget-view+json": {
       "model_id": "04ee517cd0ba4f969b12fdda09bfebe2",
       "version_major": 2,
       "version_minor": 0
      },
      "text/plain": [
       "NGLWidget(max_frame=9)"
      ]
     },
     "metadata": {},
     "output_type": "display_data"
    }
   ],
   "source": [
    "import nglview as nv\n",
    "import mdtraj as md\n",
    "\n",
    "# 指定pdb和dcd文件路径\n",
    "pdb_file = 'semi-job2/tes_un.pdb'\n",
    "dcd_file = 'semi-job2/tes_r.dcd'\n",
    "\n",
    "# 读取pdb文件\n",
    "traj = md.load(pdb_file)\n",
    "\n",
    "# 读取dcd文件的轨迹\n",
    "traj = md.load(dcd_file, top=pdb_file)\n",
    "\n",
    "# 使用NGLView可视化\n",
    "view = nv.show_mdtraj(traj)\n",
    "view\n"
   ]
  },
  {
   "cell_type": "code",
   "execution_count": null,
   "id": "c18f2545-10b4-45dc-a0d7-25cf9df8f32f",
   "metadata": {},
   "outputs": [],
   "source": []
  }
 ],
 "metadata": {
  "kernelspec": {
   "display_name": "Python 3 (ipykernel)",
   "language": "python",
   "name": "python3"
  },
  "language_info": {
   "codemirror_mode": {
    "name": "ipython",
    "version": 3
   },
   "file_extension": ".py",
   "mimetype": "text/x-python",
   "name": "python",
   "nbconvert_exporter": "python",
   "pygments_lexer": "ipython3",
   "version": "3.9.13"
  }
 },
 "nbformat": 4,
 "nbformat_minor": 5
}
